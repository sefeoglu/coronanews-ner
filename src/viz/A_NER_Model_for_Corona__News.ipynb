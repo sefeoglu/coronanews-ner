{
  "nbformat": 4,
  "nbformat_minor": 0,
  "metadata": {
    "colab": {
      "name": "A NER Model for Corona _News",
      "provenance": [],
      "collapsed_sections": [],
      "mount_file_id": "https://github.com/sefeoglu/coronanews-ner/blob/master/src/viz/A_NER_Model_for_Corona__News.ipynb",
      "authorship_tag": "ABX9TyNXoe6Fg5jkiZRjm6Nf0pbI",
      "include_colab_link": true
    },
    "kernelspec": {
      "name": "python3",
      "display_name": "Python 3"
    },
    "language_info": {
      "name": "python"
    }
  },
  "cells": [
    {
      "cell_type": "markdown",
      "metadata": {
        "id": "view-in-github",
        "colab_type": "text"
      },
      "source": [
        "<a href=\"https://colab.research.google.com/github/sefeoglu/coronanews-ner/blob/master/src/viz/A_NER_Model_for_Corona__News.ipynb\" target=\"_parent\"><img src=\"https://colab.research.google.com/assets/colab-badge.svg\" alt=\"Open In Colab\"/></a>"
      ]
    },
    {
      "cell_type": "markdown",
      "source": [
        "## Fine Grained Named Entities for Corona News"
      ],
      "metadata": {
        "id": "q34VYHEJO8Ts"
      }
    },
    {
      "cell_type": "markdown",
      "source": [
        "### Installation"
      ],
      "metadata": {
        "id": "6rL5FqFsPLCJ"
      }
    },
    {
      "cell_type": "code",
      "source": [
        "!pip install flair"
      ],
      "metadata": {
        "id": "vECqpJTmP5os"
      },
      "execution_count": null,
      "outputs": []
    },
    {
      "cell_type": "code",
      "source": [
        "!pip install deep-translator"
      ],
      "metadata": {
        "id": "2-O63dttZFTw"
      },
      "execution_count": null,
      "outputs": []
    },
    {
      "cell_type": "markdown",
      "source": [
        "### Library Definition"
      ],
      "metadata": {
        "id": "tLovlGtfP6aa"
      }
    },
    {
      "cell_type": "code",
      "source": [
        "from deep_translator import GoogleTranslator"
      ],
      "metadata": {
        "id": "3F1cemniQCR1"
      },
      "execution_count": 3,
      "outputs": []
    },
    {
      "cell_type": "code",
      "source": [
        "from flair.models import SequenceTagger\n",
        "from flair.data import Sentence"
      ],
      "metadata": {
        "id": "F0c-rMfRY8zg"
      },
      "execution_count": 4,
      "outputs": []
    },
    {
      "cell_type": "markdown",
      "source": [
        "### Path"
      ],
      "metadata": {
        "id": "v4_0dQ2KQ491"
      }
    },
    {
      "cell_type": "code",
      "source": [
        "#model path\n",
        "!cp drive/MyDrive/data-corona/model/model.zip sample_data/\n",
        "!unzip sample_data/model.zip\n"
      ],
      "metadata": {
        "colab": {
          "base_uri": "https://localhost:8080/"
        },
        "id": "Upe-bbGqQ7AP",
        "outputId": "77fdb0fa-9fd1-4236-e681-72393ac6aed9"
      },
      "execution_count": 5,
      "outputs": [
        {
          "output_type": "stream",
          "name": "stdout",
          "text": [
            "Archive:  sample_data/model.zip\n",
            "  inflating: final-model.pt          \n"
          ]
        }
      ]
    },
    {
      "cell_type": "code",
      "source": [
        "model_path = \"final-model.pt\""
      ],
      "metadata": {
        "id": "-zBQccUKheJ3"
      },
      "execution_count": 6,
      "outputs": []
    },
    {
      "cell_type": "markdown",
      "source": [
        "### Experiments"
      ],
      "metadata": {
        "id": "nqQsCl09P-Kj"
      }
    },
    {
      "cell_type": "code",
      "source": [
        "# translate German text into English\n",
        "def german_to_english(text_de):\n",
        "  text_en = GoogleTranslator('de', 'en').translate_batch([text_de])[0]\n",
        "  return text_en\n"
      ],
      "metadata": {
        "id": "7vbgWij0QMBx"
      },
      "execution_count": 7,
      "outputs": []
    },
    {
      "cell_type": "code",
      "source": [
        "# load model\n",
        "model = SequenceTagger.load(model_path)"
      ],
      "metadata": {
        "colab": {
          "base_uri": "https://localhost:8080/"
        },
        "id": "srAdEhegQCx4",
        "outputId": "b5200800-cfaa-49f0-baf6-04b114bd42ed"
      },
      "execution_count": 8,
      "outputs": [
        {
          "output_type": "stream",
          "name": "stdout",
          "text": [
            "2022-06-23 07:15:41,769 loading file final-model.pt\n",
            "2022-06-23 07:15:44,407 SequenceTagger predicts: Dictionary with 89 tags: <unk>, O, S-ORG, B-PERCENT, E-PERCENT, S-CARDINAL, B-ORG, I-ORG, E-ORG, S-PRODUCT, S-PERSON, B-EVENT, E-EVENT, S-DATE, B-GPE, E-GPE, S-EVENT, S-SIGN_OR_SYMPTOM, S-LAW, B-DATE, E-DATE, S-DISEASE_OR_SYNDROME, B-DISEASE_OR_SYNDROME, E-DISEASE_OR_SYNDROME, S-WORK_OF_ART, I-DATE, B-TIME, E-TIME, B-PERSON, E-PERSON, S-GROUP, S-GPE, B-LAW, E-LAW, B-CARDINAL, I-CARDINAL, E-CARDINAL, B-PRODUCT, I-PRODUCT, E-PRODUCT, I-PERCENT, B-FAC, I-FAC, E-FAC, S-CORONAVIRUS, B-WORK_OF_ART, E-WORK_OF_ART, S-FAC, S-ORDINAL, B-GROUP\n"
          ]
        }
      ]
    },
    {
      "cell_type": "code",
      "source": [
        "#sample sentences\n",
        "sample_sentence_de = \"\"\"Erinnerungen an SARS-Pandemie. Die Nachrichten aus Wuhan weckten die Erinnerung an die SARS-Pandemie, die 2002 in der südchinesischen Provinz Guangdong begann und anfangs vertuscht wurde.\"\"\"\n",
        "sample_sentence_de = \"\"\"Hintergrund  31.01.2020 Die Luftwaffe fliegt Deutsche und Familienangehörige aus Wuhan aus, um sie vor dem Coronavirus zu schützen.\"\"\"\n",
        "sample_sentence_en = german_to_english(sample_sentence_de)\n"
      ],
      "metadata": {
        "id": "LqrCjVzFQGKP"
      },
      "execution_count": 9,
      "outputs": []
    },
    {
      "cell_type": "code",
      "source": [
        "print(sample_sentence_en)"
      ],
      "metadata": {
        "colab": {
          "base_uri": "https://localhost:8080/"
        },
        "id": "Qt03XDbyZSV6",
        "outputId": "0ce6daa0-1543-4b60-a11b-1560114e43d5"
      },
      "execution_count": 10,
      "outputs": [
        {
          "output_type": "stream",
          "name": "stdout",
          "text": [
            "Background 01/31/2020 The Air Force flies Germans and family members out of Wuhan to protect them from the corona virus.\n"
          ]
        }
      ]
    },
    {
      "cell_type": "code",
      "source": [
        "#prediction of the results\n",
        "\n",
        "sentence = Sentence(sample_sentence_en)\n",
        "\n",
        "model.predict(sentence)"
      ],
      "metadata": {
        "id": "14cdappIQIR7"
      },
      "execution_count": 11,
      "outputs": []
    },
    {
      "cell_type": "code",
      "source": [
        "print(sentence)"
      ],
      "metadata": {
        "colab": {
          "base_uri": "https://localhost:8080/"
        },
        "id": "hKiTbcBOhuj4",
        "outputId": "9ef863b8-2577-4c70-a372-8389c532d53d"
      },
      "execution_count": 12,
      "outputs": [
        {
          "output_type": "stream",
          "name": "stdout",
          "text": [
            "Sentence: \"Background 01 / 31 / 2020 The Air Force flies Germans and family members out of Wuhan to protect them from the corona virus .\" → [\"01 / 31 / 2020\"/DATE, \"The Air Force\"/ORG, \"Germans\"/NORP, \"family members\"/GROUP, \"Wuhan\"/GPE, \"corona virus\"/CORONAVIRUS]\n"
          ]
        }
      ]
    },
    {
      "cell_type": "code",
      "source": [
        "for token in sentence.get_spans(\"ner\"):\n",
        "  print(token)"
      ],
      "metadata": {
        "colab": {
          "base_uri": "https://localhost:8080/"
        },
        "id": "3EwFR7FtRr_9",
        "outputId": "f30a6d55-0f55-41c3-bed8-d6c042ac676e"
      },
      "execution_count": 13,
      "outputs": [
        {
          "output_type": "stream",
          "name": "stdout",
          "text": [
            "Span[1:6]: \"01 / 31 / 2020\" → DATE (0.9999)\n",
            "Span[6:9]: \"The Air Force\" → ORG (0.9741)\n",
            "Span[10:11]: \"Germans\" → NORP (1.0)\n",
            "Span[12:14]: \"family members\" → GROUP (0.9264)\n",
            "Span[16:17]: \"Wuhan\" → GPE (1.0)\n",
            "Span[22:24]: \"corona virus\" → CORONAVIRUS (0.9997)\n"
          ]
        }
      ]
    }
  ]
}