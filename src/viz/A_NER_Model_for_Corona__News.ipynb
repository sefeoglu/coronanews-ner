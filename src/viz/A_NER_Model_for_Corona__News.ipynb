{
  "nbformat": 4,
  "nbformat_minor": 0,
  "metadata": {
    "colab": {
      "name": "A NER Model for Corona _News",
      "provenance": [],
      "collapsed_sections": [],
      "mount_file_id": "10CVGMNtmCkspPQ_M_g2XMf_sM6hK6N-4",
      "authorship_tag": "ABX9TyNumspiMUmKWzkfbyVEIJW8",
      "include_colab_link": true
    },
    "kernelspec": {
      "name": "python3",
      "display_name": "Python 3"
    },
    "language_info": {
      "name": "python"
    }
  },
  "cells": [
    {
      "cell_type": "markdown",
      "metadata": {
        "id": "view-in-github",
        "colab_type": "text"
      },
      "source": [
        "<a href=\"https://colab.research.google.com/github/sefeoglu/coronanews-ner/blob/master/src/viz/A_NER_Model_for_Corona__News.ipynb\" target=\"_parent\"><img src=\"https://colab.research.google.com/assets/colab-badge.svg\" alt=\"Open In Colab\"/></a>"
      ]
    },
    {
      "cell_type": "markdown",
      "source": [
        "## Fine Grained Named Entities for Corona News"
      ],
      "metadata": {
        "id": "q34VYHEJO8Ts"
      }
    },
    {
      "cell_type": "markdown",
      "source": [
        "### Installation"
      ],
      "metadata": {
        "id": "6rL5FqFsPLCJ"
      }
    },
    {
      "cell_type": "code",
      "source": [
        "!pip install flair"
      ],
      "metadata": {
        "id": "vECqpJTmP5os"
      },
      "execution_count": null,
      "outputs": []
    },
    {
      "cell_type": "code",
      "source": [
        "!pip install deep-translator"
      ],
      "metadata": {
        "id": "2-O63dttZFTw"
      },
      "execution_count": null,
      "outputs": []
    },
    {
      "cell_type": "markdown",
      "source": [
        "### Library Definition"
      ],
      "metadata": {
        "id": "tLovlGtfP6aa"
      }
    },
    {
      "cell_type": "code",
      "source": [
        "from deep_translator import GoogleTranslator"
      ],
      "metadata": {
        "id": "3F1cemniQCR1"
      },
      "execution_count": null,
      "outputs": []
    },
    {
      "cell_type": "code",
      "source": [
        "from flair.models import SequenceTagger\n",
        "from flair.data import Sentence"
      ],
      "metadata": {
        "id": "F0c-rMfRY8zg"
      },
      "execution_count": null,
      "outputs": []
    },
    {
      "cell_type": "markdown",
      "source": [
        "### Path"
      ],
      "metadata": {
        "id": "v4_0dQ2KQ491"
      }
    },
    {
      "cell_type": "code",
      "source": [
        "#model path\n",
        "!cp drive/MyDrive/data-corona/model/model.zip sample_data/\n",
        "!unzip sample_data/model.zip\n"
      ],
      "metadata": {
        "colab": {
          "base_uri": "https://localhost:8080/"
        },
        "id": "Upe-bbGqQ7AP",
        "outputId": "667bcdc7-3688-449f-b797-e7bc62184f78"
      },
      "execution_count": null,
      "outputs": [
        {
          "output_type": "stream",
          "name": "stdout",
          "text": [
            "Archive:  sample_data/model.zip\n",
            "  inflating: final-model.pt          \n"
          ]
        }
      ]
    },
    {
      "cell_type": "code",
      "source": [
        "model_path = \"final-model.pt\""
      ],
      "metadata": {
        "id": "-zBQccUKheJ3"
      },
      "execution_count": null,
      "outputs": []
    },
    {
      "cell_type": "markdown",
      "source": [
        "### Experiments"
      ],
      "metadata": {
        "id": "nqQsCl09P-Kj"
      }
    },
    {
      "cell_type": "code",
      "source": [
        "# translate German text into English\n",
        "def german_to_english(text_de):\n",
        "  text_en = GoogleTranslator('de', 'en').translate_batch([text_de])[0]\n",
        "  return text_en\n"
      ],
      "metadata": {
        "id": "7vbgWij0QMBx"
      },
      "execution_count": null,
      "outputs": []
    },
    {
      "cell_type": "code",
      "source": [
        "# load model\n",
        "model = SequenceTagger.load(model_path)"
      ],
      "metadata": {
        "colab": {
          "base_uri": "https://localhost:8080/"
        },
        "id": "srAdEhegQCx4",
        "outputId": "bf285d02-7323-4466-c5dc-b2fcb69677d7"
      },
      "execution_count": null,
      "outputs": [
        {
          "output_type": "stream",
          "name": "stdout",
          "text": [
            "2022-06-21 13:48:54,913 loading file final-model.pt\n",
            "2022-06-21 13:48:57,966 SequenceTagger predicts: Dictionary with 89 tags: <unk>, O, S-ORG, B-PERCENT, E-PERCENT, S-CARDINAL, B-ORG, I-ORG, E-ORG, S-PRODUCT, S-PERSON, B-EVENT, E-EVENT, S-DATE, B-GPE, E-GPE, S-EVENT, S-SIGN_OR_SYMPTOM, S-LAW, B-DATE, E-DATE, S-DISEASE_OR_SYNDROME, B-DISEASE_OR_SYNDROME, E-DISEASE_OR_SYNDROME, S-WORK_OF_ART, I-DATE, B-TIME, E-TIME, B-PERSON, E-PERSON, S-GROUP, S-GPE, B-LAW, E-LAW, B-CARDINAL, I-CARDINAL, E-CARDINAL, B-PRODUCT, I-PRODUCT, E-PRODUCT, I-PERCENT, B-FAC, I-FAC, E-FAC, S-CORONAVIRUS, B-WORK_OF_ART, E-WORK_OF_ART, S-FAC, S-ORDINAL, B-GROUP\n"
          ]
        }
      ]
    },
    {
      "cell_type": "code",
      "source": [
        "#sample sentences\n",
        "sample_sentence_de = \"\"\"Erinnerungen an SARS-Pandemie Die Nachrichten aus Wuhan weckten die Erinnerung an die SARS-Pandemie, die 2002 in der südchinesischen Provinz Guangdong begann und anfangs vertuscht wurde.\"\"\"\n",
        "\n",
        "sample_sentence_en = german_to_english(sample_sentence_de)\n"
      ],
      "metadata": {
        "id": "LqrCjVzFQGKP"
      },
      "execution_count": null,
      "outputs": []
    },
    {
      "cell_type": "code",
      "source": [
        "print(sample_sentence_en)"
      ],
      "metadata": {
        "colab": {
          "base_uri": "https://localhost:8080/"
        },
        "id": "Qt03XDbyZSV6",
        "outputId": "3b88216f-a7c3-4016-dbf4-e7bdfa58bbe4"
      },
      "execution_count": null,
      "outputs": [
        {
          "output_type": "stream",
          "name": "stdout",
          "text": [
            "Memories of SARS Pandemic News from Wuhan brought back memories of the SARS pandemic that began in southern China's Guangdong province in 2002 and was initially hushed up.\n"
          ]
        }
      ]
    },
    {
      "cell_type": "code",
      "source": [
        "#prediction of the results\n",
        "\n",
        "sentence = Sentence(sample_sentence_en)\n",
        "\n",
        "model.predict(sentence)"
      ],
      "metadata": {
        "id": "14cdappIQIR7"
      },
      "execution_count": null,
      "outputs": []
    },
    {
      "cell_type": "code",
      "source": [
        "print(sentence)"
      ],
      "metadata": {
        "colab": {
          "base_uri": "https://localhost:8080/"
        },
        "id": "hKiTbcBOhuj4",
        "outputId": "1b595a2a-ed1f-4e36-bac3-f1287b2dddaa"
      },
      "execution_count": null,
      "outputs": [
        {
          "output_type": "stream",
          "name": "stdout",
          "text": [
            "Sentence: \"Memories of SARS Pandemic News from Wuhan brought back memories of the SARS pandemic that began in southern China 's Guangdong province in 2002 and was initially hushed up .\" → [\"SARS\"/DISEASE_OR_SYNDROME, \"Pandemic\"/EVENT, \"Wuhan\"/GPE, \"SARS\"/DISEASE_OR_SYNDROME, \"pandemic\"/EVENT, \"China\"/GPE, \"Guangdong\"/GPE, \"2002\"/DATE]\n"
          ]
        }
      ]
    },
    {
      "cell_type": "code",
      "source": [
        "for token in sentence.get_spans(\"ner\"):\n",
        "  print(token)"
      ],
      "metadata": {
        "colab": {
          "base_uri": "https://localhost:8080/"
        },
        "id": "3EwFR7FtRr_9",
        "outputId": "bb94d51e-c42a-4a24-fde6-0e1ba885bfa2"
      },
      "execution_count": null,
      "outputs": [
        {
          "output_type": "stream",
          "name": "stdout",
          "text": [
            "Span[2:3]: \"SARS\" → DISEASE_OR_SYNDROME (0.9011)\n",
            "Span[3:4]: \"Pandemic\" → EVENT (0.9958)\n",
            "Span[6:7]: \"Wuhan\" → GPE (0.9985)\n",
            "Span[12:13]: \"SARS\" → DISEASE_OR_SYNDROME (0.6272)\n",
            "Span[13:14]: \"pandemic\" → EVENT (0.537)\n",
            "Span[18:19]: \"China\" → GPE (1.0)\n",
            "Span[20:21]: \"Guangdong\" → GPE (0.991)\n",
            "Span[23:24]: \"2002\" → DATE (0.9977)\n"
          ]
        }
      ]
    }
  ]
}